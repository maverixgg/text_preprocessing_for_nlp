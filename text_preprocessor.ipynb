{
 "cells": [
  {
   "cell_type": "code",
   "execution_count": 26,
   "id": "02d8dc0d-4a92-49d0-bdd7-f3af845ccbb1",
   "metadata": {},
   "outputs": [],
   "source": [
    "import nltk\n",
    "from nltk.tokenize import sent_tokenize\n",
    "from nltk.stem import WordNetLemmatizer\n",
    "import re\n",
    "from nltk.tokenize import word_tokenize\n",
    "import emoji\n",
    "from nltk.corpus import stopwords\n",
    "from nltk.stem import WordNetLemmatizer"
   ]
  },
  {
   "cell_type": "code",
   "execution_count": 27,
   "id": "a4bfc537-8405-404a-8773-8b5a452d3828",
   "metadata": {},
   "outputs": [],
   "source": [
    "slang_dict = {\n",
    "    \"u\": \"you\",\n",
    "    \"ur\": \"your\",\n",
    "    \"plz\": \"please\",\n",
    "    \"pls\": \"please\",\n",
    "    \"thx\": \"thanks\",\n",
    "    \"ty\": \"thank you\",\n",
    "    \"btw\": \"by the way\",\n",
    "    \"idk\": \"i don't know\",\n",
    "    \"idc\": \"i don't care\",\n",
    "    \"lmk\": \"let me know\",\n",
    "    \"np\": \"no problem\",\n",
    "    \"omg\": \"oh my god\",\n",
    "    \"wtf\": \"what the fuck\",\n",
    "    \"wth\": \"what the hell\",\n",
    "    \"smh\": \"shaking my head\",\n",
    "    \"brb\": \"be right back\",\n",
    "    \"bbl\": \"be back later\",\n",
    "    \"ttyl\": \"talk to you later\",\n",
    "    \"omw\": \"on my way\",\n",
    "    \"afk\": \"away from keyboard\",\n",
    "    \"irl\": \"in real life\",\n",
    "    \"imo\": \"in my opinion\",\n",
    "    \"imho\": \"in my humble opinion\",\n",
    "    \"fyi\": \"for your information\",\n",
    "    \"tbh\": \"to be honest\",\n",
    "    \"rn\": \"right now\",\n",
    "    \"atm\": \"at the moment\",\n",
    "    \"bc\": \"because\",\n",
    "    \"bcz\": \"because\",\n",
    "    \"cu\": \"see you\",\n",
    "    \"gr8\": \"great\",\n",
    "    \"b4\": \"before\",\n",
    "    \"l8r\": \"later\",\n",
    "    \"msg\": \"message\",\n",
    "    \"txt\": \"text\",\n",
    "    \"asap\": \"as soon as possible\",\n",
    "    \"lol\": \"laughing out loud\",\n",
    "    \"lmao\": \"laughing my ass off\",\n",
    "    \"rofl\": \"rolling on the floor laughing\",\n",
    "    \"jk\": \"just kidding\",\n",
    "    \"afaik\": \"as far as i know\",\n",
    "    \"nvm\": \"never mind\",\n",
    "    \"gg\": \"good game\",\n",
    "    \"tldr\": \"too long didn't read\",\n",
    "    \"dm\": \"direct message\",\n",
    "    \"irl\": \"in real life\",\n",
    "    \"afaik\": \"as far as i know\",\n",
    "    \"wyd\": \"what are you doing\",\n",
    "    \"wya\": \"where are you\",\n",
    "    \"hbu\": \"how about you\",\n",
    "    \"fomo\": \"fear of missing out\",\n",
    "    \"imo\": \"in my opinion\",\n",
    "    \"cap\": \"lie\",\n",
    "    \"no cap\": \"not lying\",\n",
    "    \"sus\": \"suspicious\",\n",
    "    \"srsly\": \"seriously\",\n",
    "    \"af\": \"as hell\",\n",
    "    \"ordr\": \"order\",\n",
    "    \"ikr\": \"i know right\"\n",
    "}"
   ]
  },
  {
   "cell_type": "code",
   "execution_count": 28,
   "id": "ce4993ea-67bb-4637-ab5e-c98a4009d34c",
   "metadata": {},
   "outputs": [],
   "source": [
    "lemma = WordNetLemmatizer()"
   ]
  },
  {
   "cell_type": "code",
   "execution_count": 29,
   "id": "3cbff248-3afc-494d-9f82-82dd1fd40b8c",
   "metadata": {},
   "outputs": [],
   "source": [
    "def pipeline(text):\n",
    "    # Handles multiple punctuation as a sign of sentiment\n",
    "    text = re.sub(r'([^\\w])\\1+',r' strong emotion', text)\n",
    "    # Preserves emojis insted of removing it\n",
    "    text = emoji.demojize(text)\n",
    "    text = text.lower()\n",
    "    # Removes all unnecessary punctuations\n",
    "    text = re.sub(r'[^a-zA-Z0-9\\s]', '', text)\n",
    "    print(text)\n",
    "\n",
    "    # Word Tokenization\n",
    "    words = word_tokenize(text)\n",
    "    print(words)\n",
    "\n",
    "    # Removing Stopwords\n",
    "    clean_words = [word for word in words if word not in set(stopwords.words('english'))]\n",
    "\n",
    "    #Handles Slang\n",
    "    final = [slang_dict.get(word, word) for word in clean_words]\n",
    "    print(final)\n",
    "\n",
    "    # Taking all words to its root form\n",
    "    lemmatized_text = [lemma.lemmatize(i, pos='v') for i in final]\n",
    "    return lemmatized_text"
   ]
  },
  {
   "cell_type": "code",
   "execution_count": 30,
   "id": "d2168f7b-7637-4559-ae0d-209dc5d6d23d",
   "metadata": {},
   "outputs": [],
   "source": [
    "chat = \"delivery late af... i want refund now\""
   ]
  },
  {
   "cell_type": "code",
   "execution_count": 31,
   "id": "3a85a822-c407-4a44-8708-3098f316d017",
   "metadata": {},
   "outputs": [
    {
     "name": "stdout",
     "output_type": "stream",
     "text": [
      "delivery late af strong emotion i want refund now\n",
      "['delivery', 'late', 'af', 'strong', 'emotion', 'i', 'want', 'refund', 'now']\n",
      "['delivery', 'late', 'as hell', 'strong', 'emotion', 'want', 'refund']\n",
      "['delivery', 'late', 'as hell', 'strong', 'emotion', 'want', 'refund']\n"
     ]
    }
   ],
   "source": [
    "print(pipeline(chat))"
   ]
  },
  {
   "cell_type": "code",
   "execution_count": null,
   "id": "852e6b4e-0035-4208-b567-4d78a4e79452",
   "metadata": {},
   "outputs": [],
   "source": []
  }
 ],
 "metadata": {
  "kernelspec": {
   "display_name": "Python 3 (ipykernel)",
   "language": "python",
   "name": "python3"
  },
  "language_info": {
   "codemirror_mode": {
    "name": "ipython",
    "version": 3
   },
   "file_extension": ".py",
   "mimetype": "text/x-python",
   "name": "python",
   "nbconvert_exporter": "python",
   "pygments_lexer": "ipython3",
   "version": "3.13.0"
  }
 },
 "nbformat": 4,
 "nbformat_minor": 5
}
